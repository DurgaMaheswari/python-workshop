{
 "cells": [
  {
   "cell_type": "code",
   "execution_count": null,
   "metadata": {},
   "outputs": [],
   "source": [
    "\n",
    "n=int(input())\n",
    "def fac(n):\n",
    "    result=1\n",
    "    while(n>0):\n",
    "        result=result*n\n",
    "        n=n-1\n",
    "    print(result)\n",
    "fac(n)"
   ]
  },
  {
   "cell_type": "code",
   "execution_count": null,
   "metadata": {},
   "outputs": [],
   "source": [
    "#print the perfect numbers \n",
    "n=int(input())\n",
    "s=0\n",
    "while(n>0):\n",
    "    rem=n%10\n",
    "    s=s+rem\n",
    "    n=n//10\n",
    "print(s)\n",
    "count=0\n",
    "for n in range(1,s+1):\n",
    "    if s%n==0:\n",
    "        count+=1\n",
    "if(count==2):\n",
    "    print(\"perfect\")\n",
    "else:\n",
    "    print('not perfect')"
   ]
  },
  {
   "cell_type": "code",
   "execution_count": null,
   "metadata": {},
   "outputs": [],
   "source": [
    "\n",
    "for n in range(int(input()),int(input())+1):\n",
    "    sum=0\n",
    "    count=0\n",
    "    while(n>0):\n",
    "        rem=n%10\n",
    "        sum=sum+rem\n",
    "        n=n//10\n",
    "    print(\"sum=\",sum,end=\",\")\n",
    "    for i in range(1,sum+1):\n",
    "        if(sum%i==0):\n",
    "            count=count+1\n",
    "    if(count==2):\n",
    "        print(\"perfect\")\n",
    "    else:\n",
    "        print(\"not perfect\")"
   ]
  },
  {
   "cell_type": "code",
   "execution_count": null,
   "metadata": {},
   "outputs": [],
   "source": [
    "#write a python program to print menu card\n",
    "l=['tea','coffe','juice']\n",
    "l1=[20,30,40]\n",
    "for i in range(len(l)):\n",
    "    print(l[i],\":\",l1[i])\n",
    "n=input()\n",
    "quantity=int(input())\n",
    "for i in range(len(l)):\n",
    "    if(n==l[i]):\n",
    "        print(quantity)\n",
    "        print(\"item and cost-->\",l[i],\":\",l1[i]*quantity)\n"
   ]
  },
  {
   "cell_type": "code",
   "execution_count": null,
   "metadata": {},
   "outputs": [],
   "source": [
    "sentence=input()\n",
    "count=0\n",
    "for word in sentence:\n",
    "    if word==\"h\":\n",
    "        count=count+1\n",
    "print(\"count:\",count)\n",
    "sentence.count(\"h\")\n"
   ]
  },
  {
   "cell_type": "code",
   "execution_count": null,
   "metadata": {},
   "outputs": [],
   "source": [
    "n=int(input())\n",
    "nums=input().split()[:n]\n",
    "s=0\n",
    "for num in nums:\n",
    "    s=s+int(num[len(num)//2])\n",
    "print(s)"
   ]
  },
  {
   "cell_type": "code",
   "execution_count": 9,
   "metadata": {},
   "outputs": [
    {
     "name": "stdout",
     "output_type": "stream",
     "text": [
      "2\n",
      "2 3\n"
     ]
    },
    {
     "ename": "UnboundLocalError",
     "evalue": "local variable 'num' referenced before assignment",
     "output_type": "error",
     "traceback": [
      "\u001b[1;31m---------------------------------------------------------------------------\u001b[0m",
      "\u001b[1;31mUnboundLocalError\u001b[0m                         Traceback (most recent call last)",
      "\u001b[1;32m<ipython-input-9-f9cb4b1565e6>\u001b[0m in \u001b[0;36m<module>\u001b[1;34m\u001b[0m\n\u001b[0;32m     11\u001b[0m     \u001b[1;32mif\u001b[0m \u001b[0mc\u001b[0m\u001b[1;33m==\u001b[0m\u001b[1;36m2\u001b[0m\u001b[1;33m:\u001b[0m\u001b[1;33m\u001b[0m\u001b[1;33m\u001b[0m\u001b[0m\n\u001b[0;32m     12\u001b[0m         \u001b[0mprint\u001b[0m\u001b[1;33m(\u001b[0m\u001b[0mnum\u001b[0m\u001b[1;33m,\u001b[0m\u001b[0mend\u001b[0m\u001b[1;33m=\u001b[0m\u001b[1;34m\" \"\u001b[0m\u001b[1;33m)\u001b[0m\u001b[1;33m\u001b[0m\u001b[1;33m\u001b[0m\u001b[0m\n\u001b[1;32m---> 13\u001b[1;33m \u001b[0mis_prime\u001b[0m\u001b[1;33m(\u001b[0m\u001b[0mnums\u001b[0m\u001b[1;33m)\u001b[0m\u001b[1;33m\u001b[0m\u001b[1;33m\u001b[0m\u001b[0m\n\u001b[0m\u001b[0;32m     14\u001b[0m \u001b[1;33m\u001b[0m\u001b[0m\n",
      "\u001b[1;32m<ipython-input-9-f9cb4b1565e6>\u001b[0m in \u001b[0;36mis_prime\u001b[1;34m(nums)\u001b[0m\n\u001b[0;32m      2\u001b[0m \u001b[0mnums\u001b[0m\u001b[1;33m=\u001b[0m\u001b[0minput\u001b[0m\u001b[1;33m(\u001b[0m\u001b[1;33m)\u001b[0m\u001b[1;33m.\u001b[0m\u001b[0msplit\u001b[0m\u001b[1;33m(\u001b[0m\u001b[1;33m)\u001b[0m\u001b[1;33m[\u001b[0m\u001b[1;33m:\u001b[0m\u001b[0mn\u001b[0m\u001b[1;33m]\u001b[0m\u001b[1;33m\u001b[0m\u001b[1;33m\u001b[0m\u001b[0m\n\u001b[0;32m      3\u001b[0m \u001b[1;32mdef\u001b[0m \u001b[0mis_prime\u001b[0m\u001b[1;33m(\u001b[0m\u001b[0mnums\u001b[0m\u001b[1;33m)\u001b[0m\u001b[1;33m:\u001b[0m\u001b[1;33m\u001b[0m\u001b[1;33m\u001b[0m\u001b[0m\n\u001b[1;32m----> 4\u001b[1;33m     \u001b[0mnum\u001b[0m\u001b[1;33m=\u001b[0m\u001b[0mint\u001b[0m\u001b[1;33m(\u001b[0m\u001b[0mnum\u001b[0m\u001b[1;33m)\u001b[0m\u001b[1;33m\u001b[0m\u001b[1;33m\u001b[0m\u001b[0m\n\u001b[0m\u001b[0;32m      5\u001b[0m     \u001b[1;32mfor\u001b[0m \u001b[0mnum\u001b[0m \u001b[1;32min\u001b[0m \u001b[0mnums\u001b[0m\u001b[1;33m:\u001b[0m\u001b[1;33m\u001b[0m\u001b[1;33m\u001b[0m\u001b[0m\n\u001b[0;32m      6\u001b[0m         \u001b[0mnum\u001b[0m\u001b[1;33m=\u001b[0m\u001b[0mint\u001b[0m\u001b[1;33m(\u001b[0m\u001b[0mnum\u001b[0m\u001b[1;33m)\u001b[0m\u001b[1;33m\u001b[0m\u001b[1;33m\u001b[0m\u001b[0m\n",
      "\u001b[1;31mUnboundLocalError\u001b[0m: local variable 'num' referenced before assignment"
     ]
    }
   ],
   "source": [
    "n=int(input())\n",
    "nums=input().split()[:n]\n",
    "def is_prime(nums):\n",
    "    num=int(num)\n",
    "    for num in nums:\n",
    "        num=int(num)\n",
    "        c=0\n",
    "        for i in range(0,num+1):\n",
    "            if num%i==0:\n",
    "                c=c+1\n",
    "    if c==2:\n",
    "        print(num,end=\" \")\n",
    "is_prime(nums)\n",
    "        "
   ]
  },
  {
   "cell_type": "code",
   "execution_count": 8,
   "metadata": {},
   "outputs": [
    {
     "name": "stdout",
     "output_type": "stream",
     "text": [
      "HII hloo\n",
      "lower case letters: o o \n",
      "upper case letters: I I "
     ]
    }
   ],
   "source": [
    "sen=input().split()\n",
    "v='aeiou'\n",
    "V='AEIOU'\n",
    "print(\"lower case letters:\",end=\" \")\n",
    "for ch in sen:\n",
    "    for i in ch:\n",
    "        if i in v:\n",
    "            print(i,end=\" \")\n",
    "print(\"\\nupper case letters:\",end=\" \")\n",
    "for ch in sen:\n",
    "    for i in ch:\n",
    "        if i in V:\n",
    "            print(i,end=\" \")\n",
    "            \n"
   ]
  },
  {
   "cell_type": "code",
   "execution_count": 13,
   "metadata": {},
   "outputs": [
    {
     "name": "stdout",
     "output_type": "stream",
     "text": [
      "123\n",
      "6\n"
     ]
    }
   ],
   "source": [
    "#without using while loop find sum of digits in  a number\n",
    "n=input()\n",
    "sum=0\n",
    "for i in range(len(n)+1):\n",
    "    sum=sum+int(i)\n",
    "print(sum)"
   ]
  },
  {
   "cell_type": "code",
   "execution_count": 23,
   "metadata": {},
   "outputs": [
    {
     "name": "stdout",
     "output_type": "stream",
     "text": [
      "twerju236#\n",
      "2 3 6 \n",
      " 3\n"
     ]
    }
   ],
   "source": [
    "#read a alphanumeric string from the user ,count no.of digits in it\n",
    "n=input()\n",
    "count=0\n",
    "for i in n:\n",
    "    if i.isnumeric():\n",
    "        print(i,end=\" \")\n",
    "        count=count+1\n",
    "print(\"\\n\",count)"
   ]
  },
  {
   "cell_type": "code",
   "execution_count": 28,
   "metadata": {},
   "outputs": [
    {
     "name": "stdout",
     "output_type": "stream",
     "text": [
      "101 102 104 106 110 111 113 115 119 120 122 124 128 131 133 137 139 140 142 146 148 151 155 157 160 164 166 173 175 179 182 184 188 191 193 197 199 "
     ]
    }
   ],
   "source": [
    "\n",
    "for num in range(100,200):\n",
    "    count=0\n",
    "    s=0\n",
    "    for dig in str(num):\n",
    "        s+=int(dig)\n",
    "    for each in range(1,s+1):\n",
    "        if s%each==0:\n",
    "            count+=1\n",
    "    if(count==2):\n",
    "        print(num,end=\" \")\n",
    "    \n",
    "    \n",
    "    "
   ]
  },
  {
   "cell_type": "markdown",
   "metadata": {},
   "source": [
    "data structures:\n",
    "list:mutable,ordered,changeble,allow duplicates\n",
    "tuple\n",
    "dictionary\n",
    "set doesnt aloow duplicates\n"
   ]
  },
  {
   "cell_type": "markdown",
   "metadata": {},
   "source": [
    "list:\n",
    "    collection of different data types\n",
    "    ordered\n",
    "    mutable and changeble\n",
    "    "
   ]
  },
  {
   "cell_type": "code",
   "execution_count": 29,
   "metadata": {},
   "outputs": [
    {
     "data": {
      "text/plain": [
       "['__add__',\n",
       " '__class__',\n",
       " '__contains__',\n",
       " '__delattr__',\n",
       " '__delitem__',\n",
       " '__dir__',\n",
       " '__doc__',\n",
       " '__eq__',\n",
       " '__format__',\n",
       " '__ge__',\n",
       " '__getattribute__',\n",
       " '__getitem__',\n",
       " '__gt__',\n",
       " '__hash__',\n",
       " '__iadd__',\n",
       " '__imul__',\n",
       " '__init__',\n",
       " '__init_subclass__',\n",
       " '__iter__',\n",
       " '__le__',\n",
       " '__len__',\n",
       " '__lt__',\n",
       " '__mul__',\n",
       " '__ne__',\n",
       " '__new__',\n",
       " '__reduce__',\n",
       " '__reduce_ex__',\n",
       " '__repr__',\n",
       " '__reversed__',\n",
       " '__rmul__',\n",
       " '__setattr__',\n",
       " '__setitem__',\n",
       " '__sizeof__',\n",
       " '__str__',\n",
       " '__subclasshook__',\n",
       " 'append',\n",
       " 'clear',\n",
       " 'copy',\n",
       " 'count',\n",
       " 'extend',\n",
       " 'index',\n",
       " 'insert',\n",
       " 'pop',\n",
       " 'remove',\n",
       " 'reverse',\n",
       " 'sort']"
      ]
     },
     "execution_count": 29,
     "metadata": {},
     "output_type": "execute_result"
    }
   ],
   "source": [
    "dir(list)"
   ]
  },
  {
   "cell_type": "code",
   "execution_count": 49,
   "metadata": {},
   "outputs": [
    {
     "name": "stdout",
     "output_type": "stream",
     "text": [
      "[5, 6, 7, 8, [1, 3, 2, 3, 4]]\n",
      "1\n",
      "4\n",
      "[1, 2, 3, 3, 4]\n",
      "5\n",
      "[1, 3, 2]\n",
      "[]\n",
      "[5]\n",
      "[5, 6, 7, 8, [5]]\n"
     ]
    }
   ],
   "source": [
    "l1=[1,3,2,3,4]\n",
    "l2=[5,6,7,8]\n",
    "l2.append(l1)\n",
    "l2.sort\n",
    "print(l2)\n",
    "print(min(l1))\n",
    "print(max(l1))\n",
    "print(sorted(l1))\n",
    "print(len(l1))\n",
    "l1.count(2)\n",
    "l1.pop(3)\n",
    "l1.remove(4)\n",
    "print(l1)\n",
    "l1.clear()\n",
    "print(l1)\n",
    "l1.insert(5,5)\n",
    "print(l1)\n",
    "l3=l2\n",
    "print(l3)"
   ]
  },
  {
   "cell_type": "code",
   "execution_count": 50,
   "metadata": {},
   "outputs": [
    {
     "name": "stdout",
     "output_type": "stream",
     "text": [
      "[1, 3, 2, 3, 4]\n"
     ]
    }
   ],
   "source": [
    "l1=[1,3,2,3,4]\n",
    "l2=l1.copy()\n",
    "print(l2)"
   ]
  },
  {
   "cell_type": "code",
   "execution_count": 55,
   "metadata": {},
   "outputs": [
    {
     "name": "stdout",
     "output_type": "stream",
     "text": [
      "[24, 12, 45, 34, 56, 89]\n"
     ]
    }
   ],
   "source": [
    "l=[24,12,45,12,34,56,89]\n",
    "l1=[]\n",
    "for i in l:\n",
    "    if i not in l1:\n",
    "        l1.append(i)\n",
    "print(l1)"
   ]
  },
  {
   "cell_type": "code",
   "execution_count": 60,
   "metadata": {},
   "outputs": [
    {
     "name": "stdout",
     "output_type": "stream",
     "text": [
      "[24, 45, 34, 56, 89]\n"
     ]
    }
   ],
   "source": [
    "l=[24,12,45,12,34,56,89]\n",
    "l1=[]\n",
    "count=0\n",
    "for i in l:\n",
    "    if l.count(i)==1:\n",
    "        l1.append(i)\n",
    "print(l1)"
   ]
  },
  {
   "cell_type": "code",
   "execution_count": 1,
   "metadata": {},
   "outputs": [
    {
     "name": "stdout",
     "output_type": "stream",
     "text": [
      "282\n",
      "282\n"
     ]
    }
   ],
   "source": [
    "l=[34,12,45,12,34,56,89]\n",
    "s=0\n",
    "print(sum(l))\n",
    "for i in l:\n",
    "    s=s+i\n",
    "print(s)"
   ]
  },
  {
   "cell_type": "code",
   "execution_count": null,
   "metadata": {},
   "outputs": [],
   "source": []
  }
 ],
 "metadata": {
  "kernelspec": {
   "display_name": "Python 3",
   "language": "python",
   "name": "python3"
  },
  "language_info": {
   "codemirror_mode": {
    "name": "ipython",
    "version": 3
   },
   "file_extension": ".py",
   "mimetype": "text/x-python",
   "name": "python",
   "nbconvert_exporter": "python",
   "pygments_lexer": "ipython3",
   "version": "3.8.5"
  }
 },
 "nbformat": 4,
 "nbformat_minor": 4
}
