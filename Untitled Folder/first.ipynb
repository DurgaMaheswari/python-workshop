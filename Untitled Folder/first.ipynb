{
 "cells": [
  {
   "cell_type": "code",
   "execution_count": null,
   "metadata": {},
   "outputs": [],
   "source": [
    "def is_even(n):\n",
    "    if(n%2==0):\n",
    "        return True\n",
    "    else:\n",
    "        return False\n",
    "#is_even(int(input()))\n",
    "def fact(n):\n",
    "    fact=1\n",
    "    for i in range(n):\n",
    "        fact+=i\n",
    "    return fact\n",
    "#fact(int(input()))\n",
    "def is_perfect(n):\n",
    "    s=0\n",
    "    for num in range(n):\n",
    "        if(n%num==0):\n",
    "            s=s+num\n",
    "    if s==n:\n",
    "        print(\"perfect\")\n",
    "    else:\n",
    "        print(\"not perfect\")"
   ]
  }
 ],
 "metadata": {
  "kernelspec": {
   "display_name": "Python 3",
   "language": "python",
   "name": "python3"
  },
  "language_info": {
   "codemirror_mode": {
    "name": "ipython",
    "version": 3
   },
   "file_extension": ".py",
   "mimetype": "text/x-python",
   "name": "python",
   "nbconvert_exporter": "python",
   "pygments_lexer": "ipython3",
   "version": "3.8.5"
  }
 },
 "nbformat": 4,
 "nbformat_minor": 4
}
