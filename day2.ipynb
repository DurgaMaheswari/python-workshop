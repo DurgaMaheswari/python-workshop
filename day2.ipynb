{
 "cells": [
  {
   "cell_type": "code",
   "execution_count": null,
   "metadata": {},
   "outputs": [],
   "source": []
  },
  {
   "cell_type": "code",
   "execution_count": null,
   "metadata": {},
   "outputs": [],
   "source": []
  },
  {
   "cell_type": "markdown",
   "metadata": {},
   "source": [
    "# conditional statements"
   ]
  },
  {
   "cell_type": "code",
   "execution_count": null,
   "metadata": {},
   "outputs": [],
   "source": [
    "n=int(input())\n",
    "if(n>0):\n",
    "    print(\"num is positive\")\n",
    "elif(n<0):\n",
    "    print(\"num is negative\")\n",
    "else:\n",
    "    print(\"out of range\")"
   ]
  },
  {
   "cell_type": "code",
   "execution_count": null,
   "metadata": {},
   "outputs": [],
   "source": [
    " \n",
    "n=input()\n",
    "if n==\"jan\" or n==\"march\" or n==\"may\" or n==\"july\" or n==\"aug\" or n==\"oct\" or n==\"dec\":\n",
    "    print(\"31 days\")\n",
    "elif n==\"feb\":\n",
    "    print(\"28 or 29 days\")\n",
    "else:\n",
    "    print(\"30 days\")"
   ]
  },
  {
   "cell_type": "code",
   "execution_count": null,
   "metadata": {},
   "outputs": [],
   "source": [
    "n=input()\n",
    "l1=[\"january\",\"march\",\"may\",\"july\",\"aug\",\"oct\",\"dec\"]\n",
    "l2=[\"april\",\"june\",\"sep\",\"nov\"]\n",
    "if n in l1:\n",
    "    print(\"31 days\")\n",
    "elif n in l2:\n",
    "    print(\"30 days\")\n",
    "else:\n",
    "    print(\"28 or 29 days\")"
   ]
  },
  {
   "cell_type": "code",
   "execution_count": null,
   "metadata": {},
   "outputs": [],
   "source": [
    "n=int(input())\n",
    "if n%2==0:\n",
    "    if(n>10):\n",
    "        print(n**2)\n",
    "    elif(n==10):\n",
    "        print(\"n value is 10\")\n",
    "    else:\n",
    "        print(n**3)\n",
    "else:\n",
    "    print(\"odd\")"
   ]
  },
  {
   "cell_type": "code",
   "execution_count": null,
   "metadata": {},
   "outputs": [],
   "source": [
    "n=int(input())\n",
    "if n>100 and  n<200:\n",
    "    pwd=\"durga\"\n",
    "    pwd1=input()\n",
    "    if pwd1==pwd:\n",
    "        print(\"welcome\")\n",
    "    else:\n",
    "        print(\"invalid password\")\n",
    "else:\n",
    "    print(\"invalid userid\")\n",
    "    "
   ]
  },
  {
   "cell_type": "code",
   "execution_count": null,
   "metadata": {},
   "outputs": [],
   "source": [
    "children,chocolates=map(int,input().split())\n",
    "if chocolates%children==0:\n",
    "    print(\"equally distributed\")\n",
    "else:\n",
    "    print(\"not equal\")"
   ]
  },
  {
   "cell_type": "code",
   "execution_count": null,
   "metadata": {},
   "outputs": [],
   "source": [
    "a,b=map(int,input().split())\n",
    "ope=input()\n",
    "if(ope==\"add\"):\n",
    "    print(a+b)\n",
    "elif(ope==\"sub\"):\n",
    "    print(a-b)\n",
    "elif(ope=='mul'):\n",
    "    print(a*b)\n",
    "elif(ope==\"div\"):\n",
    "    print(a/b)\n",
    "else:\n",
    "    print(\"invalid operation\")\n",
    "        \n",
    "\n",
    "        "
   ]
  },
  {
   "cell_type": "code",
   "execution_count": null,
   "metadata": {},
   "outputs": [],
   "source": [
    "n=int(input())\n",
    "if(n>=18):\n",
    "    print(\"eligible for vote\")\n",
    "else:\n",
    "    print(\"not eligible\")"
   ]
  },
  {
   "cell_type": "code",
   "execution_count": null,
   "metadata": {},
   "outputs": [],
   "source": [
    "n=input()\n",
    "v='aeiouAEIOU'\n",
    "if n in v:\n",
    "    print(\"vowels\")\n",
    "else:\n",
    "    print(\"consonents\")"
   ]
  },
  {
   "cell_type": "code",
   "execution_count": 1,
   "metadata": {},
   "outputs": [
    {
     "name": "stdout",
     "output_type": "stream",
     "text": [
      "180\n",
      "3\n",
      "640 480\n",
      "crop it\n",
      "120 300\n",
      "upload another\n",
      "180 180\n",
      "accepted\n"
     ]
    }
   ],
   "source": [
    "l=int(input())\n",
    "n=int(input())\n",
    "for i in range(n):\n",
    "    w,h=map(int,input().split())\n",
    "    if w<l or h<l:\n",
    "        print(\"upload another\")\n",
    "    elif w==h:\n",
    "        print(\"accepted\")\n",
    "    else:\n",
    "        print(\"crop it\")"
   ]
  },
  {
   "cell_type": "code",
   "execution_count": null,
   "metadata": {},
   "outputs": [],
   "source": [
    "print([i for i in range(10,0,-2)])"
   ]
  },
  {
   "cell_type": "code",
   "execution_count": null,
   "metadata": {},
   "outputs": [],
   "source": [
    "sum=0\n",
    "for i in range(1,11):\n",
    "    sum=sum+i\n",
    "print(sum)"
   ]
  },
  {
   "cell_type": "code",
   "execution_count": null,
   "metadata": {},
   "outputs": [],
   "source": [
    "a,b=map(int,input().split())\n",
    "sum=0\n",
    "for i in range(a,b+1):\n",
    "    sum=sum+i\n",
    "print(sum)"
   ]
  },
  {
   "cell_type": "code",
   "execution_count": null,
   "metadata": {},
   "outputs": [],
   "source": [
    "n=int(input())\n",
    "for i in range(1,n+1):\n",
    "    if(n%i==0):\n",
    "        print(i)\n",
    "    "
   ]
  },
  {
   "cell_type": "code",
   "execution_count": null,
   "metadata": {},
   "outputs": [],
   "source": [
    "n=int(input())\n",
    "count=0\n",
    "for i in range(1,n+1):\n",
    "    if(n%i==0):\n",
    "        count=count+1\n",
    "if(count==2):\n",
    "    print(\"prime\")\n",
    "else:\n",
    "    print(\"not prime\")"
   ]
  },
  {
   "cell_type": "code",
   "execution_count": null,
   "metadata": {},
   "outputs": [],
   "source": [
    "n=int(input())\n",
    "sum=0\n",
    "for i in range(1,n):\n",
    "    if(n%i==0):\n",
    "        sum=sum+i\n",
    "if(sum==n):\n",
    "    print(\"perfect\")\n",
    "else:\n",
    "    print(\"not perfect\")\n",
    "    "
   ]
  },
  {
   "cell_type": "code",
   "execution_count": null,
   "metadata": {},
   "outputs": [],
   "source": [
    "m=int(input())\n",
    "n=int(input())\n",
    "es=0\n",
    "os=0\n",
    "print(\"even numbers are:\",end=' ')\n",
    "for i in range(m,n+1):\n",
    "    if(i%2==0):\n",
    "        print(i,end=\" \")\n",
    "        es=es+i\n",
    "print(\"\\nsum of even numbers:\",es)\n",
    "print(\"odd numbers are:\",end=' ')\n",
    "for i in range(m,n+1):\n",
    "    if(i%2==1):\n",
    "        print(i,end=\" \")\n",
    "        os=os+i\n",
    "print(\"\\nsum of odd numbers are:\",os)\n",
    "        "
   ]
  },
  {
   "cell_type": "code",
   "execution_count": null,
   "metadata": {},
   "outputs": [],
   "source": [
    "for i in range(1,51):\n",
    "    if i%3==0 and i%5==0:\n",
    "        print(\"FIZZBUZZ\")\n",
    "    elif i%3==0:\n",
    "        print(\"FIZZ\")\n",
    "    elif i%5==0:\n",
    "        print(\"BUZZ\")\n",
    "    else:\n",
    "        print(i)"
   ]
  },
  {
   "cell_type": "code",
   "execution_count": null,
   "metadata": {},
   "outputs": [],
   "source": [
    " for i in range(65,91):\n",
    "        if(i%2==0):\n",
    "            print(i,\"-->\",end=' ')\n",
    "            print(chr(i))\n",
    "            "
   ]
  },
  {
   "cell_type": "code",
   "execution_count": null,
   "metadata": {},
   "outputs": [],
   "source": [
    "print(ord(\"Z\"))"
   ]
  },
  {
   "cell_type": "code",
   "execution_count": null,
   "metadata": {},
   "outputs": [],
   "source": [
    "m=int(input())\n",
    "n=int(input())\n",
    "i=m\n",
    "while(i<=n):\n",
    "    print(i)\n",
    "    sum=sum+i\n",
    "    i=i+1\n",
    "print(sum)"
   ]
  },
  {
   "cell_type": "code",
   "execution_count": null,
   "metadata": {},
   "outputs": [],
   "source": [
    "n=int(input())\n",
    "count=0\n",
    "while(n>0):\n",
    "    n=n//10\n",
    "    count=count+1\n",
    "print(count)"
   ]
  },
  {
   "cell_type": "code",
   "execution_count": null,
   "metadata": {},
   "outputs": [],
   "source": [
    "n=int(input())\n",
    "m=n\n",
    "rev=0\n",
    "while(n>0):\n",
    "    dig=n%10\n",
    "    rev=rev*10+dig  \n",
    "    n=n//10\n",
    "print(rev)\n",
    "if(m==rev):\n",
    "    print(\"palindrome\")\n",
    "else:\n",
    "    print(\"not palindrome\")"
   ]
  },
  {
   "cell_type": "code",
   "execution_count": null,
   "metadata": {},
   "outputs": [],
   "source": [
    "m=int(input())\n",
    "n=m\n",
    "sum=0\n",
    "order=len(str(m))\n",
    "while(m>0):\n",
    "    dig=m%10\n",
    "    sum=sum+dig**order\n",
    "    m=m//10\n",
    "if(sum==n):\n",
    "    print(\"armstrong\")\n",
    "else:\n",
    "    print(\"not armstrong\")"
   ]
  },
  {
   "cell_type": "code",
   "execution_count": 5,
   "metadata": {},
   "outputs": [
    {
     "name": "stdout",
     "output_type": "stream",
     "text": [
      "234\n",
      "9\n",
      "24\n"
     ]
    }
   ],
   "source": [
    "n=int(input())\n",
    "sum=0\n",
    "dig=0\n",
    "mul=1\n",
    "while(n>0):\n",
    "    dig=n%10\n",
    "    sum=sum+dig\n",
    "    mul=mul*dig\n",
    "    n=n//10\n",
    "print(sum)\n",
    "print(mul)"
   ]
  },
  {
   "cell_type": "code",
   "execution_count": 23,
   "metadata": {},
   "outputs": [
    {
     "name": "stdout",
     "output_type": "stream",
     "text": [
      "565789\n",
      "5579\n",
      "sum: 26\n"
     ]
    }
   ],
   "source": [
    "n=input()\n",
    "sum=0\n",
    "for i in range(len(n)):\n",
    "    if int(n[i])%2==1:\n",
    "        print(n[i],end='')\n",
    "        sum=sum+int(n[i])\n",
    "print(\"\\nsum:\",sum)"
   ]
  },
  {
   "cell_type": "code",
   "execution_count": 25,
   "metadata": {},
   "outputs": [
    {
     "name": "stdout",
     "output_type": "stream",
     "text": [
      "5\n",
      "odd\n"
     ]
    }
   ],
   "source": [
    "n=int(input())\n",
    "def even(n):\n",
    "    if(n%2==0):\n",
    "        print(\"even\")\n",
    "    else:\n",
    "        print(\"odd\")\n",
    "even(n)"
   ]
  },
  {
   "cell_type": "code",
   "execution_count": 27,
   "metadata": {},
   "outputs": [
    {
     "name": "stdout",
     "output_type": "stream",
     "text": [
      "3\n",
      "prime\n"
     ]
    }
   ],
   "source": [
    "n=int(input())\n",
    "def prime(n):\n",
    "    count=0\n",
    "    for i in range(1,n+1):\n",
    "        if(n%i==0):\n",
    "            count=count+1\n",
    "    if(count<2):\n",
    "        print(\"not prime\")\n",
    "    else:\n",
    "        print(\"prime\")\n",
    "prime(n)"
   ]
  },
  {
   "cell_type": "code",
   "execution_count": 3,
   "metadata": {},
   "outputs": [
    {
     "name": "stdout",
     "output_type": "stream",
     "text": [
      "2\n",
      "8\n",
      "5.0\n"
     ]
    }
   ],
   "source": [
    "m=int(input())\n",
    "n=int(input())\n",
    "def avg(m,n):\n",
    "    sum=0\n",
    "    count=0\n",
    "    for i in range(m,n+1):\n",
    "        count=count+1\n",
    "        sum=sum+i\n",
    "    avg=sum/count\n",
    "    print(avg)\n",
    "avg(m,n)"
   ]
  },
  {
   "cell_type": "code",
   "execution_count": null,
   "metadata": {},
   "outputs": [],
   "source": []
  }
 ],
 "metadata": {
  "kernelspec": {
   "display_name": "Python 3",
   "language": "python",
   "name": "python3"
  },
  "language_info": {
   "codemirror_mode": {
    "name": "ipython",
    "version": 3
   },
   "file_extension": ".py",
   "mimetype": "text/x-python",
   "name": "python",
   "nbconvert_exporter": "python",
   "pygments_lexer": "ipython3",
   "version": "3.8.5"
  }
 },
 "nbformat": 4,
 "nbformat_minor": 4
}
